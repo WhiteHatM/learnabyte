{
 "cells": [
  {
   "cell_type": "code",
   "execution_count": 8,
   "id": "17f4975b",
   "metadata": {},
   "outputs": [
    {
     "name": "stdout",
     "output_type": "stream",
     "text": [
      "Enter string: RanCho*d D$aS\n",
      "RanchoD DaS\n"
     ]
    }
   ],
   "source": [
    "def removeCharacterandNumber(s):\n",
    "    t = \"\"\n",
    "    for i in s:\n",
    "        if (i >= 'A' and i <= 'Z') or (i >= 'a' and i <= 'z') or (i == ' '):\n",
    "            t += i\n",
    "    return t\n",
    " \n",
    "s = input(\"Enter string: \")\n",
    "output = removeCharacterandNumber(s)\n",
    "\n",
    "def capital_small(str1):\n",
    "     str1 = result = str1.title()\n",
    "     result =  \"\"\n",
    "     for word in str1.split():\n",
    "        result += word[:-1] + word[-1].upper() + \" \"\n",
    "     return result[:-1]  \n",
    "     \n",
    "print(capital_small(output))"
   ]
  },
  {
   "cell_type": "code",
   "execution_count": 41,
   "id": "b4d2bb05",
   "metadata": {},
   "outputs": [
    {
     "name": "stdout",
     "output_type": "stream",
     "text": [
      "How many numbers: 3\n",
      "Enter number 1: 25\n",
      "Enter number 2: 1\n",
      "Enter number 3: 78\n",
      "The order is:  ['1', '25', '78']\n"
     ]
    }
   ],
   "source": [
    "l = []\n",
    "n = int(input(\"How many numbers: \"))\n",
    "for i in range(n):\n",
    "    num = input(\"Enter number {}: \".format(i+1))\n",
    "    l.append(num)\n",
    "l.sort()\n",
    "  \n",
    "print(\"The order is: \" ,l)"
   ]
  },
  {
   "cell_type": "code",
   "execution_count": 15,
   "id": "fd8d5d3e",
   "metadata": {},
   "outputs": [
    {
     "name": "stdout",
     "output_type": "stream",
     "text": [
      "How many voters can vote: 5\n",
      "Choices:\n",
      " Press 1 to vote for AAA \n",
      " Press 2 to vote for BBB\n",
      " Press 3 to vote for CCC \n",
      " Press 4 to vote for NOTA \n",
      "\n",
      "Please enter your choice: 1\n",
      "Please enter your choice: 2\n",
      "Please enter your choice: 2\n",
      "Please enter your choice: 2\n",
      "Please enter your choice: 3\n",
      "BBB won\n"
     ]
    }
   ],
   "source": [
    "voters = int(input(\"How many voters can vote: \"))\n",
    "print(\"Choices:\\n Press 1 to vote for AAA \\n Press 2 to vote for BBB\\n\"\n",
    "        \" Press 3 to vote for CCC \\n Press 4 to vote for NOTA \\n\")\n",
    "\n",
    "\n",
    "a_votes = 0\n",
    "b_votes = 0\n",
    "c_votes = 0\n",
    "nota = 0\n",
    "\n",
    "for i in range(voters):\n",
    "    x = int(input(\"Please enter your choice: \"))\n",
    "    if x == 1:\n",
    "        a_votes += 1\n",
    "    elif x == 2:\n",
    "        b_votes += 1\n",
    "    elif x == 3:\n",
    "        c_votes += 1\n",
    "    elif x == 4:\n",
    "        nota += 1\n",
    "    else:\n",
    "        print(\"Invalid nominee\")\n",
    "\n",
    "if(a_votes>max(b_votes,c_votes,nota)):\n",
    "    print(\"AAA won\")\n",
    "elif(b_votes > max(a_votes,c_votes,nota)):\n",
    "    print(\"BBB won\")\n",
    "elif(c_votes > max(a_votes,b_votes,nota)):\n",
    "    print(\"CCC won\")\n",
    "else:\n",
    "    print(\"Nota won\")\n",
    "        \n",
    "    "
   ]
  },
  {
   "cell_type": "code",
   "execution_count": 14,
   "id": "4581171f",
   "metadata": {},
   "outputs": [
    {
     "name": "stdout",
     "output_type": "stream",
     "text": [
      "Choices:\n",
      " Press 1 to add \n",
      " Press 2 to subtract\n",
      " Press 3 to multiply \n",
      " Press 4 to divide \n",
      "\n",
      "Enter choice: 2\n",
      "Enter first number: 25\n",
      "Enter second number: 24\n",
      "25.0 - 24.0 = 1.0\n"
     ]
    }
   ],
   "source": [
    "def add(x, y):\n",
    "    return x + y\n",
    "\n",
    "def subtract(x, y):\n",
    "    return x - y\n",
    "\n",
    "def multiply(x, y):\n",
    "    return x * y\n",
    "\n",
    "def divide(x, y):\n",
    "    return x / y\n",
    "\n",
    "print(\"Choices:\\n Press 1 to add \\n Press 2 to subtract\\n\"\n",
    "        \" Press 3 to multiply \\n Press 4 to divide \\n\")\n",
    "\n",
    "while True:\n",
    "    choice = input(\"Enter choice: \")\n",
    "\n",
    "    if choice in ('1', '2', '3', '4'):\n",
    "        num1 = float(input(\"Enter first number: \"))\n",
    "        num2 = float(input(\"Enter second number: \"))\n",
    "\n",
    "        if choice == '1':\n",
    "            print(num1, \"+\", num2, \"=\", add(num1, num2))\n",
    "\n",
    "        elif choice == '2':\n",
    "            print(num1, \"-\", num2, \"=\", subtract(num1, num2))\n",
    "\n",
    "        elif choice == '3':\n",
    "            print(num1, \"*\", num2, \"=\", multiply(num1, num2))\n",
    "\n",
    "        elif choice == '4':\n",
    "            print(num1, \"/\", num2, \"=\", divide(num1, num2))\n",
    "        break\n",
    "    else:\n",
    "        print(\"Invalid Input\")"
   ]
  },
  {
   "cell_type": "code",
   "execution_count": 20,
   "id": "5f80fcb6",
   "metadata": {},
   "outputs": [
    {
     "name": "stdout",
     "output_type": "stream",
     "text": [
      "Enter lower limit: 1\n",
      "Enter upper linit: 100\n",
      "Prime numbers between 1 and 100 are:\n",
      "2,3,5,7,11,13,17,19,23,29,31,37,41,43,47,53,59,61,67,71,73,79,83,89,97,"
     ]
    }
   ],
   "source": [
    "lower = int(input(\"Enter lower limit: \"))\n",
    "upper = int(input(\"Enter upper linit: \"))\n",
    "\n",
    "print(\"Prime numbers between\", lower, \"and\", upper, \"are:\")\n",
    "\n",
    "for num in range(lower, upper + 1):\n",
    "   if num > 1:\n",
    "       for i in range(2, num):\n",
    "           if (num % i) == 0:\n",
    "               break\n",
    "       else:\n",
    "           print(num,end = \",\")"
   ]
  },
  {
   "cell_type": "code",
   "execution_count": 29,
   "id": "ce02456c",
   "metadata": {},
   "outputs": [
    {
     "name": "stdout",
     "output_type": "stream",
     "text": [
      "Enter an integer: 72\n",
      "72 is not a prime number\n",
      "The factors of 72 are:\n",
      "1,2,3,4,6,8,9,12,18,24,36,72,"
     ]
    }
   ],
   "source": [
    "n = int(input(\"Enter an integer: \"))\n",
    "\n",
    "def test_prime(n):\n",
    "    if (n==1):\n",
    "        return False\n",
    "    elif (n==2):\n",
    "        return True;\n",
    "    else:\n",
    "        for x in range(2,n):\n",
    "            if(n % x==0):\n",
    "                return False\n",
    "        return True\n",
    "\n",
    "if(test_prime(n) == False):\n",
    "    print(n,\"is not a prime number\")\n",
    "    print(\"The factors of\",n,\"are:\")\n",
    "    for i in range(1, n + 1):\n",
    "       if n % i == 0:\n",
    "           print(i,end = ',')\n",
    "else:\n",
    "    print(n,\"is a prime number\")"
   ]
  },
  {
   "cell_type": "code",
   "execution_count": null,
   "id": "0117f731",
   "metadata": {},
   "outputs": [],
   "source": []
  },
  {
   "cell_type": "code",
   "execution_count": null,
   "id": "2c0ee4ee",
   "metadata": {},
   "outputs": [],
   "source": []
  }
 ],
 "metadata": {
  "kernelspec": {
   "display_name": "Python 3",
   "language": "python",
   "name": "python3"
  },
  "language_info": {
   "codemirror_mode": {
    "name": "ipython",
    "version": 3
   },
   "file_extension": ".py",
   "mimetype": "text/x-python",
   "name": "python",
   "nbconvert_exporter": "python",
   "pygments_lexer": "ipython3",
   "version": "3.8.8"
  }
 },
 "nbformat": 4,
 "nbformat_minor": 5
}
