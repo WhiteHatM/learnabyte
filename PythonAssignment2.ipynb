{
 "cells": [
  {
   "cell_type": "code",
   "execution_count": 8,
   "id": "821bf805",
   "metadata": {},
   "outputs": [
    {
     "name": "stdout",
     "output_type": "stream",
     "text": [
      "Enter the length of the array: 9\n",
      "Enter element: 5\n",
      "Enter element: 6\n",
      "Enter element: 7\n",
      "Enter element: 8\n",
      "Enter element: 9\n",
      "Enter element: 10\n",
      "Enter element: 1\n",
      "Enter element: 2\n",
      "Enter element: 3\n",
      "Given array:  [5, 6, 7, 8, 9, 10, 1, 2, 3]\n",
      "Enter the key you want to find: 3\n",
      "Index of the element is :  8\n"
     ]
    }
   ],
   "source": [
    "def pivotedBinarySearch(arr, n, key):\n",
    " \n",
    "    pivot = findPivot(arr, 0, n-1);\n",
    "    if pivot == -1:\n",
    "        return binarySearch(arr, 0, n-1, key);\n",
    " \n",
    "    if arr[pivot] == key:\n",
    "        return pivot\n",
    "    if arr[0] <= key:\n",
    "        return binarySearch(arr, 0, pivot-1, key);\n",
    "    return binarySearch(arr, pivot + 1, n-1, key);\n",
    " \n",
    "\n",
    "def findPivot(arr, low, high):\n",
    "    \n",
    "    if high < low:\n",
    "        return -1\n",
    "    if high == low:\n",
    "        return low\n",
    "     \n",
    "    mid = int((low + high)/2)\n",
    "     \n",
    "    if mid < high and arr[mid] > arr[mid + 1]:\n",
    "        return mid\n",
    "    if mid > low and arr[mid] < arr[mid - 1]:\n",
    "        return (mid-1)\n",
    "    if arr[low] >= arr[mid]:\n",
    "        return findPivot(arr, low, mid-1)\n",
    "    return findPivot(arr, mid + 1, high)\n",
    " \n",
    "\n",
    "def binarySearch(arr, low, high, key):\n",
    " \n",
    "    if high < low:\n",
    "        return -1\n",
    "    \n",
    "    \n",
    "    mid = int((low + high)/2)\n",
    "     \n",
    "    if key == arr[mid]:\n",
    "        return mid\n",
    "    if key > arr[mid]:\n",
    "        return binarySearch(arr, (mid + 1), high,\n",
    "                                            key);\n",
    "    return binarySearch(arr, low, (mid -1), key);\n",
    " \n",
    " \n",
    "\n",
    "arr1 = []\n",
    "n = int(input(\"Enter the length of the array: \"))\n",
    "for i in range(n):\n",
    "    ele = int(input(\"Enter element: \".format(n)))\n",
    "    arr1.append(ele)\n",
    "print(\"Given array: \",arr1)\n",
    "key = int(input(\"Enter the key you want to find: \"))\n",
    "print(\"Index of the element is : \",\n",
    "      pivotedBinarySearch(arr1, n, key))"
   ]
  },
  {
   "cell_type": "code",
   "execution_count": 9,
   "id": "18f2cc7e",
   "metadata": {},
   "outputs": [
    {
     "name": "stdout",
     "output_type": "stream",
     "text": [
      "Enter the length of the array: 5\n",
      "Enter element: 7\n",
      "Enter element: -3\n",
      "Enter element: -12\n",
      "Enter element: 0\n",
      "Enter element: 2\n",
      "Given array:  [7, -3, -12, 0, 2]\n",
      "Maximum Sub array product is 252\n"
     ]
    }
   ],
   "source": [
    "def maxSubarrayProduct(arr, n):\n",
    " \n",
    "    result = arr[0]\n",
    "    \n",
    "    for i in range(n):\n",
    "        mul = arr[i]\n",
    "        for j in range(i + 1, n):\n",
    "            result = max(result, mul)\n",
    "            mul *= arr[j]\n",
    "        result = max(result, mul)\n",
    "    return result\n",
    "\n",
    "arr = []\n",
    "n = int(input(\"Enter the length of the array: \"))\n",
    "for i in range(n):\n",
    "    ele = int(input(\"Enter element: \".format(n)))\n",
    "    arr.append(ele)\n",
    "print(\"Given array: \",arr)\n",
    "print(\"Maximum Sub array product is\" , maxSubarrayProduct(arr, n))"
   ]
  },
  {
   "cell_type": "code",
   "execution_count": 12,
   "id": "cfb48a73",
   "metadata": {},
   "outputs": [
    {
     "name": "stdout",
     "output_type": "stream",
     "text": [
      "Enter the length of the array: 5\n",
      "Enter element: 3\n",
      "Enter element: 4\n",
      "Enter element: 7\n",
      "Enter element: 8\n",
      "Enter element: 10\n",
      "Given array:  [3, 4, 7, 8, 10]\n",
      "Sum: 7\n",
      "7\n"
     ]
    }
   ],
   "source": [
    "def findMaxSubarraySum(arr, n, sum):\n",
    "     \n",
    "    current_sum = arr[0]\n",
    "    max_sum = 0\n",
    "    start = 0;\n",
    " \n",
    "\n",
    "    for i in range(1, n):\n",
    "        if (current_sum <= sum):\n",
    "            max_sum = max(max_sum, current_sum)\n",
    "\n",
    "        while (current_sum + arr[i] > sum and start < i):\n",
    "            current_sum -= arr[start]\n",
    "            start += 1\n",
    "         \n",
    "        current_sum += arr[i]\n",
    " \n",
    "    if (current_sum <= sum):\n",
    "        max_sum = max(max_sum, current_sum)\n",
    " \n",
    "    return max_sum\n",
    " \n",
    "if __name__ == '__main__':\n",
    "    arr = []\n",
    "    n = int(input(\"Enter the length of the array: \"))\n",
    "    for i in range(n):\n",
    "        ele = int(input(\"Enter element: \".format(n)))\n",
    "        arr.append(ele)\n",
    "    print(\"Given array: \",arr)\n",
    "    sum = int(input(\"Sum: \"))\n",
    " \n",
    "    print(findMaxSubarraySum(arr, n, sum))"
   ]
  },
  {
   "cell_type": "code",
   "execution_count": null,
   "id": "71f3816a",
   "metadata": {},
   "outputs": [],
   "source": []
  }
 ],
 "metadata": {
  "kernelspec": {
   "display_name": "Python 3",
   "language": "python",
   "name": "python3"
  },
  "language_info": {
   "codemirror_mode": {
    "name": "ipython",
    "version": 3
   },
   "file_extension": ".py",
   "mimetype": "text/x-python",
   "name": "python",
   "nbconvert_exporter": "python",
   "pygments_lexer": "ipython3",
   "version": "3.8.8"
  }
 },
 "nbformat": 4,
 "nbformat_minor": 5
}
